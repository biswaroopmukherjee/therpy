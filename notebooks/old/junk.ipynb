{
 "cells": [
  {
   "cell_type": "code",
   "execution_count": 1,
   "metadata": {
    "collapsed": true
   },
   "outputs": [],
   "source": [
    "import os"
   ]
  },
  {
   "cell_type": "code",
   "execution_count": 2,
   "metadata": {
    "collapsed": true
   },
   "outputs": [],
   "source": [
    "folder = '/Users/ranchopc/Documents/My Programs/Python Library/therpy'"
   ]
  },
  {
   "cell_type": "code",
   "execution_count": 5,
   "metadata": {
    "collapsed": false
   },
   "outputs": [
    {
     "name": "stdout",
     "output_type": "stream",
     "text": [
      "['.DS_Store', '.idea', '__init__.py', '__pycache__', 'calculus.py', 'classes.py', 'constants.py', 'Docs', 'Examples', 'functions.py', 'imagedata.py', 'imageio.py', 'misc.py', 'optimize.py', 'smooth.py']\n"
     ]
    }
   ],
   "source": [
    "allContents = os.listdir(folder)\n",
    "print(allContents)"
   ]
  },
  {
   "cell_type": "code",
   "execution_count": 13,
   "metadata": {
    "collapsed": false
   },
   "outputs": [
    {
     "name": "stdout",
     "output_type": "stream",
     "text": [
      "['/Users/ranchopc/Documents/My Programs/Python Library/therpy/.DS_Store', '/Users/ranchopc/Documents/My Programs/Python Library/therpy/.idea', '/Users/ranchopc/Documents/My Programs/Python Library/therpy/__init__.py', '/Users/ranchopc/Documents/My Programs/Python Library/therpy/__pycache__', '/Users/ranchopc/Documents/My Programs/Python Library/therpy/calculus.py', '/Users/ranchopc/Documents/My Programs/Python Library/therpy/classes.py', '/Users/ranchopc/Documents/My Programs/Python Library/therpy/constants.py', '/Users/ranchopc/Documents/My Programs/Python Library/therpy/Docs', '/Users/ranchopc/Documents/My Programs/Python Library/therpy/Examples', '/Users/ranchopc/Documents/My Programs/Python Library/therpy/functions.py', '/Users/ranchopc/Documents/My Programs/Python Library/therpy/imagedata.py', '/Users/ranchopc/Documents/My Programs/Python Library/therpy/imageio.py', '/Users/ranchopc/Documents/My Programs/Python Library/therpy/misc.py', '/Users/ranchopc/Documents/My Programs/Python Library/therpy/optimize.py', '/Users/ranchopc/Documents/My Programs/Python Library/therpy/smooth.py']\n"
     ]
    }
   ],
   "source": [
    "allPaths = [os.path.join(folder,sub) for sub in allContents]\n",
    "print(allPaths)"
   ]
  },
  {
   "cell_type": "code",
   "execution_count": 14,
   "metadata": {
    "collapsed": false
   },
   "outputs": [
    {
     "name": "stdout",
     "output_type": "stream",
     "text": [
      "[True, False, True, False, True, True, True, False, False, True, True, True, True, True, True]\n"
     ]
    }
   ],
   "source": [
    "print([os.path.isfile(file) for file in allPaths])"
   ]
  },
  {
   "cell_type": "code",
   "execution_count": 23,
   "metadata": {
    "collapsed": false
   },
   "outputs": [
    {
     "name": "stdout",
     "output_type": "stream",
     "text": [
      "['', '', '.py', '', '.py', '.py', '.py', '', '', '.py', '.py', '.py', '.py', '.py', '.py']\n"
     ]
    }
   ],
   "source": [
    "print([os.path.splitext(file)[1] for file in allContents])"
   ]
  },
  {
   "cell_type": "code",
   "execution_count": 25,
   "metadata": {
    "collapsed": false
   },
   "outputs": [
    {
     "name": "stdout",
     "output_type": "stream",
     "text": [
      "[False, False, True, False, True, True, True, False, False, True, True, True, True, True, True]\n"
     ]
    }
   ],
   "source": [
    "print(['.py' == os.path.splitext(file)[1] for file in allPaths])"
   ]
  },
  {
   "cell_type": "code",
   "execution_count": 20,
   "metadata": {
    "collapsed": false
   },
   "outputs": [
    {
     "name": "stdout",
     "output_type": "stream",
     "text": [
      "[]\n"
     ]
    }
   ],
   "source": [
    "print([os.path.splitext(file)[1] for file in allPaths])"
   ]
  },
  {
   "cell_type": "code",
   "execution_count": null,
   "metadata": {
    "collapsed": true
   },
   "outputs": [],
   "source": []
  }
 ],
 "metadata": {
  "kernelspec": {
   "display_name": "Python 3",
   "language": "python",
   "name": "python3"
  },
  "language_info": {
   "codemirror_mode": {
    "name": "ipython",
    "version": 3
   },
   "file_extension": ".py",
   "mimetype": "text/x-python",
   "name": "python",
   "nbconvert_exporter": "python",
   "pygments_lexer": "ipython3",
   "version": "3.5.1"
  }
 },
 "nbformat": 4,
 "nbformat_minor": 0
}
