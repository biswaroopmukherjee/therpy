{
 "cells": [
  {
   "cell_type": "code",
   "execution_count": 1,
   "metadata": {
    "collapsed": true
   },
   "outputs": [],
   "source": [
    "### Beginning of jupyter notebook\n",
    "# Housekeeping\n",
    "import os.path, sys\n",
    "sys.path.append(os.path.join(os.path.expanduser('~'), 'Documents', 'My Programs', 'Python Library'))\n",
    "# Matplotlib backend interactive\n",
    "# import matplotlib\n",
    "# matplotlib.use('nbagg')\n",
    "# Matplotlib backend static\n",
    "%matplotlib inline\n",
    "# Imports\n",
    "import numpy as np\n",
    "import pandas as pd\n",
    "import matplotlib.pyplot as plt\n",
    "import therpy as tp"
   ]
  },
  {
   "cell_type": "code",
   "execution_count": 2,
   "metadata": {
    "collapsed": false
   },
   "outputs": [],
   "source": [
    "name = '05-04-2016_22_33_33_top'\n",
    "img = tp.AbsImage(name=name)"
   ]
  },
  {
   "cell_type": "code",
   "execution_count": 3,
   "metadata": {
    "collapsed": false
   },
   "outputs": [
    {
     "name": "stdout",
     "output_type": "stream",
     "text": [
      "infs: 0, nans: 0, non-finites: 0\n"
     ]
    }
   ],
   "source": [
    "infpts = np.isinf(img.od)\n",
    "nanpts = np.isnan(img.od)\n",
    "nonfinitepts = np.logical_not(np.isfinite(img.od))\n",
    "print('infs: {}, nans: {}, non-finites: {}'.format(np.sum(infpts), np.sum(nanpts), np.sum(nonfinitepts)))"
   ]
  },
  {
   "cell_type": "code",
   "execution_count": 6,
   "metadata": {
    "collapsed": false
   },
   "outputs": [
    {
     "name": "stdout",
     "output_type": "stream",
     "text": [
      "0\n"
     ]
    }
   ],
   "source": [
    "od = tp.imagedata.get_od(img.wa,img.woa)\n",
    "print(np.sum(np.logical_not(np.isfinite(od))))"
   ]
  },
  {
   "cell_type": "code",
   "execution_count": 56,
   "metadata": {
    "collapsed": false
   },
   "outputs": [],
   "source": [
    "x = np.arange(img.od.shape[1])\n",
    "y = np.arange(img.od.shape[0])\n",
    "X,Y = np.meshgrid(x,y)"
   ]
  },
  {
   "cell_type": "code",
   "execution_count": 100,
   "metadata": {
    "collapsed": false
   },
   "outputs": [
    {
     "name": "stdout",
     "output_type": "stream",
     "text": [
      "[[-0.17034537]]\n",
      "-0.170345365747\n",
      "(slice(510, 511, None), slice(510, 511, None))\n"
     ]
    }
   ],
   "source": [
    "Xt, Yt = X[nonfinitepts], Y[nonfinitepts]\n",
    "Xt[-1],Yt[-1] = x[-1], y[-1]\n",
    "i = 175\n",
    "cropi = tp.imagedata.get_cropi(X,center=(Xt[i],Yt[i]),width=3)\n",
    "print(img.od[cropi])\n",
    "replace = img.od[cropi].flatten()\n",
    "replace = replace[np.isfinite(replace)]\n",
    "if replace.size == 0: replace = 0\n",
    "else: replace = np.mean(replace)\n",
    "print(replace)\n",
    "print(cropi)"
   ]
  },
  {
   "cell_type": "code",
   "execution_count": null,
   "metadata": {
    "collapsed": true
   },
   "outputs": [],
   "source": []
  }
 ],
 "metadata": {
  "kernelspec": {
   "display_name": "Python 3",
   "language": "python",
   "name": "python3"
  },
  "language_info": {
   "codemirror_mode": {
    "name": "ipython",
    "version": 3
   },
   "file_extension": ".py",
   "mimetype": "text/x-python",
   "name": "python",
   "nbconvert_exporter": "python",
   "pygments_lexer": "ipython3",
   "version": "3.5.1"
  }
 },
 "nbformat": 4,
 "nbformat_minor": 0
}
