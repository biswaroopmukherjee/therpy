{
 "cells": [
  {
   "cell_type": "code",
   "execution_count": 1,
   "metadata": {
    "collapsed": false
   },
   "outputs": [],
   "source": [
    "import os.path, sys\n",
    "sys.path.append(os.path.join(os.path.expanduser('~'), 'Documents', 'My Programs', 'Python Library'))\n",
    "%matplotlib inline\n",
    "import numpy as np\n",
    "import pandas as pd\n",
    "import matplotlib.pyplot as plt\n",
    "import therpy_working as tp"
   ]
  },
  {
   "cell_type": "markdown",
   "metadata": {},
   "source": [
    "## Creating curve object"
   ]
  },
  {
   "cell_type": "code",
   "execution_count": 2,
   "metadata": {
    "collapsed": false
   },
   "outputs": [
    {
     "name": "stdout",
     "output_type": "stream",
     "text": [
      "<class 'therpy_working.classes.Curve'>\n",
      "A curve with 10 data points.\n"
     ]
    },
    {
     "data": {
      "text/plain": [
       "[<matplotlib.lines.Line2D at 0x109bc6b70>]"
      ]
     },
     "execution_count": 2,
     "metadata": {},
     "output_type": "execute_result"
    },
    {
     "data": {
      "image/png": "[encoded data removed]",
      "text/plain": [
       "<matplotlib.figure.Figure at 0x113946588>"
      ]
     },
     "metadata": {},
     "output_type": "display_data"
    }
   ],
   "source": [
    "x = np.random.random(10)\n",
    "y = np.random.random(10)\n",
    "\n",
    "fx = tp.Curve(x,y)\n",
    "\n",
    "print(type(fx))\n",
    "print(fx)\n",
    "plt.plot(*fx.data) # unpack data which returns tuple (x,y)"
   ]
  },
  {
   "cell_type": "markdown",
   "metadata": {},
   "source": [
    "## Properties"
   ]
  },
  {
   "cell_type": "code",
   "execution_count": 3,
   "metadata": {
    "collapsed": false
   },
   "outputs": [
    {
     "name": "stdout",
     "output_type": "stream",
     "text": [
      "the curve object's x and y have sizes: 10 and 10\n",
      "the .data returns a tuple with x,y: <class 'tuple'> with length: 2\n",
      "this makes it easy for plotting with the unpack operator *fx.data\n"
     ]
    }
   ],
   "source": [
    "print(\"the curve object's x and y have sizes:\",fx.x.size,'and', fx.y.size)\n",
    "print(\"the .data returns a tuple with x,y:\",type(fx.data),'with length:',len(fx.data))\n",
    "print(\"this makes it easy for plotting with the unpack operator *fx.data\")"
   ]
  },
  {
   "cell_type": "code",
   "execution_count": 4,
   "metadata": {
    "collapsed": false
   },
   "outputs": [
    {
     "name": "stdout",
     "output_type": "stream",
     "text": [
      "sort_index or sorti: 10\n",
      "[ 0.17836124  0.7549381   0.20341356  0.20664269]\n",
      "[ 0.00310735  0.02451223  0.05559478  0.17836124]\n"
     ]
    }
   ],
   "source": [
    "print('sort_index or sorti:',fx.sorti.size)\n",
    "print(fx.x[0:4])\n",
    "print(fx.x[fx.sorti][0:4])"
   ]
  },
  {
   "cell_type": "markdown",
   "metadata": {},
   "source": [
    "## Methods"
   ]
  },
  {
   "cell_type": "code",
   "execution_count": 5,
   "metadata": {
    "collapsed": false
   },
   "outputs": [
    {
     "data": {
      "text/plain": [
       "[<matplotlib.lines.Line2D at 0x1162172e8>]"
      ]
     },
     "execution_count": 5,
     "metadata": {},
     "output_type": "execute_result"
    },
    {
     "data": {
      "image/png": "[encoded data removed]",
      "text/plain": [
       "<matplotlib.figure.Figure at 0x10433b4e0>"
      ]
     },
     "metadata": {},
     "output_type": "display_data"
    }
   ],
   "source": [
    "# Sort by x: returns tuple of sorted (x,y)\n",
    "plt.plot(*fx.sortbyx())\n",
    "\n",
    "fx_sort = tp.Curve(*fx.sortbyx())\n",
    "plt.plot(*fx_sort.data,'ro')"
   ]
  },
  {
   "cell_type": "code",
   "execution_count": 6,
   "metadata": {
    "collapsed": false
   },
   "outputs": [
    {
     "name": "stdout",
     "output_type": "stream",
     "text": [
      "Funcation value near x = 0.4 is 0.53\n",
      "Funcation value near x = 1.0 is 0.05\n",
      "Funcation value near x = 0.2 is 0.32\n"
     ]
    }
   ],
   "source": [
    "# Calls\n",
    "print('Funcation value near x = 0.4 is {:.2f}'.format(fx(0.4)))\n",
    "print('Funcation value near x = 1.0 is {:.2f}'.format(fx(1)))\n",
    "print('Funcation value near x = 0.2 is {:.2f}'.format(fx(0.2)))"
   ]
  },
  {
   "cell_type": "markdown",
   "metadata": {
    "collapsed": true
   },
   "source": [
    "## Fitting"
   ]
  },
  {
   "cell_type": "code",
   "execution_count": 7,
   "metadata": {
    "collapsed": true
   },
   "outputs": [],
   "source": [
    "def gaussian(x, amp, x0, sigma, offset):\n",
    "    return amp * np.exp( - (x-x0)**2 / (2*sigma**2) ) + offset"
   ]
  },
  {
   "cell_type": "code",
   "execution_count": 14,
   "metadata": {
    "collapsed": false
   },
   "outputs": [
    {
     "data": {
      "text/plain": [
       "[<matplotlib.lines.Line2D at 0x1165882b0>]"
      ]
     },
     "execution_count": 14,
     "metadata": {},
     "output_type": "execute_result"
    },
    {
     "data": {
      "image/png": "[encoded data removed]",
      "text/plain": [
       "<matplotlib.figure.Figure at 0x11697fc88>"
      ]
     },
     "metadata": {},
     "output_type": "display_data"
    }
   ],
   "source": [
    "# Create fake noisy data\n",
    "x = np.linspace(0,10,100)\n",
    "y = gaussian(x, 2.34534, 4.57, 1.34, -0.029)\n",
    "y += np.random.normal(loc=0, scale=0.05, size=y.shape)\n",
    "c = tp.Curve(x, y)\n",
    "plt.plot(*c.data)"
   ]
  },
  {
   "cell_type": "code",
   "execution_count": 15,
   "metadata": {
    "collapsed": false
   },
   "outputs": [
    {
     "name": "stdout",
     "output_type": "stream",
     "text": [
      "##______Fit Value______Error______\n",
      " 0 ==>     2.371 (+-)   0.01434\n",
      " 1 ==>     4.571 (+-)  0.008237\n",
      " 2 ==>      1.32 (+-)   0.01087\n",
      " 3 ==>  -0.03033 (+-)  0.009064\n"
     ]
    },
    {
     "data": {
      "image/png": "[encoded data removed]",
      "text/plain": [
       "<matplotlib.figure.Figure at 0x1165cb2b0>"
      ]
     },
     "metadata": {},
     "output_type": "display_data"
    }
   ],
   "source": [
    "# Fit the gaussian function\n",
    "(fitres,fiterr) = c.fit(gaussian, [1, 5, 1, 0], plot=True, pts=1000)"
   ]
  },
  {
   "cell_type": "code",
   "execution_count": null,
   "metadata": {
    "collapsed": false
   },
   "outputs": [],
   "source": []
  },
  {
   "cell_type": "code",
   "execution_count": null,
   "metadata": {
    "collapsed": true
   },
   "outputs": [],
   "source": []
  },
  {
   "cell_type": "code",
   "execution_count": null,
   "metadata": {
    "collapsed": true
   },
   "outputs": [],
   "source": []
  },
  {
   "cell_type": "code",
   "execution_count": null,
   "metadata": {
    "collapsed": true
   },
   "outputs": [],
   "source": []
  },
  {
   "cell_type": "markdown",
   "metadata": {},
   "source": [
    "# Development"
   ]
  },
  {
   "cell_type": "markdown",
   "metadata": {},
   "source": [
    "### Find index of xi in array x"
   ]
  },
  {
   "cell_type": "code",
   "execution_count": 10,
   "metadata": {
    "collapsed": true
   },
   "outputs": [],
   "source": [
    "# Explained version\n",
    "def locx_full(x,xi):\n",
    "    imin = np.argwhere(x<=xi) \n",
    "    if len(imin) > 0: imin = imin[-1,0] # Last element smaller than\n",
    "    else: return 0\n",
    "    imax = np.argwhere(x>xi)\n",
    "    if len(imax) > 0: imax = imax[0,0] # First element larger than\n",
    "    else: return x.size - 1\n",
    "    # Nearest neighbor\n",
    "    dist_left = xi-x[imin]\n",
    "    dist_right = x[imax]-xi\n",
    "    if dist_left < dist_right: iloc = imin\n",
    "    else: iloc = imax\n",
    "    return iloc\n",
    "# Shorter, faster version\n",
    "def locx(x,xi):\n",
    "    iloc = np.argwhere(x<=xi)\n",
    "    if len(iloc) == 0: return 0\n",
    "    elif len(iloc) == x.size: return x.size - 1\n",
    "    else: iloc = iloc[-1,0]\n",
    "    if (xi-x[iloc]) >= (x[iloc+1]-xi): iloc += 1\n",
    "    return iloc\n"
   ]
  },
  {
   "cell_type": "code",
   "execution_count": 11,
   "metadata": {
    "collapsed": false
   },
   "outputs": [
    {
     "name": "stdout",
     "output_type": "stream",
     "text": [
      "x =  [  0.   1.   2.   3.   4.   5.   6.   7.   8.   9.  10.]\n",
      "Location of -1.0 is index 0.0\n",
      "Location of 3.9 is index 4.0\n",
      "Location of 4.0 is index 4.0\n",
      "Location of 4.1 is index 4.0\n",
      "Location of 4.4 is index 4.0\n",
      "Location of 4.5 is index 5.0\n",
      "Location of 4.6 is index 5.0\n",
      "Location of 11.0 is index 10.0\n"
     ]
    }
   ],
   "source": [
    "x = np.linspace(0,10,11)\n",
    "print('x = ',x)\n",
    "\n",
    "xi = -1\n",
    "print('Location of {:.1f} is index {:.1f}'.format(xi,locx(x,xi)))\n",
    "xi = 3.9\n",
    "print('Location of {:.1f} is index {:.1f}'.format(xi,locx(x,xi)))\n",
    "xi = 4\n",
    "print('Location of {:.1f} is index {:.1f}'.format(xi,locx(x,xi)))\n",
    "xi = 4.1\n",
    "print('Location of {:.1f} is index {:.1f}'.format(xi,locx(x,xi)))\n",
    "xi = 4.4\n",
    "print('Location of {:.1f} is index {:.1f}'.format(xi,locx(x,xi)))\n",
    "xi = 4.5\n",
    "print('Location of {:.1f} is index {:.1f}'.format(xi,locx(x,xi)))\n",
    "xi = 4.6\n",
    "print('Location of {:.1f} is index {:.1f}'.format(xi,locx(x,xi)))\n",
    "xi = 11\n",
    "print('Location of {:.1f} is index {:.1f}'.format(xi,locx(x,xi)))"
   ]
  },
  {
   "cell_type": "code",
   "execution_count": null,
   "metadata": {
    "collapsed": false
   },
   "outputs": [],
   "source": []
  },
  {
   "cell_type": "code",
   "execution_count": null,
   "metadata": {
    "collapsed": false
   },
   "outputs": [],
   "source": []
  },
  {
   "cell_type": "code",
   "execution_count": null,
   "metadata": {
    "collapsed": true
   },
   "outputs": [],
   "source": []
  }
 ],
 "metadata": {
  "kernelspec": {
   "display_name": "Python 3",
   "language": "python",
   "name": "python3"
  },
  "language_info": {
   "codemirror_mode": {
    "name": "ipython",
    "version": 3
   },
   "file_extension": ".py",
   "mimetype": "text/x-python",
   "name": "python",
   "nbconvert_exporter": "python",
   "pygments_lexer": "ipython3",
   "version": "3.5.1"
  }
 },
 "nbformat": 4,
 "nbformat_minor": 0
}
