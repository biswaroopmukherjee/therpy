{
 "cells": [
  {
   "cell_type": "code",
   "execution_count": 1,
   "metadata": {
    "collapsed": true
   },
   "outputs": [],
   "source": [
    "import collections"
   ]
  },
  {
   "cell_type": "code",
   "execution_count": 21,
   "metadata": {
    "collapsed": true
   },
   "outputs": [],
   "source": [
    "'''\n",
    "Ordered dictionary that can also be indexed like lists. \n",
    "'''\n",
    "class sdict(collections.OrderedDict):\n",
    "    def __init__(self, *args, **kwargs): \n",
    "        super(sdict, self).__init__(*args, **kwargs)\n",
    "    def __getitem__(self, k):\n",
    "        if type(k) == slice: return list(self.values())[k]\n",
    "        if type(k) in [int, float]: k = list(self.keys())[int(k)]\n",
    "        return super(sdict, self).__getitem__(k)\n",
    "    def __setitem__(self, k, v):\n",
    "        if type(k) == slice: \n",
    "            for ki,vi in zip(list(self.keys())[k], v): super(sdict, self).__setitem__(ki, vi)\n",
    "        elif type(k) in [int, float]: super(sdict, self).__setitem__(list(self.keys())[int(k)], v)\n",
    "        else: super(sdict, self).__setitem__(k, v)\n",
    "    def __iter__(self):\n",
    "        for v in list(self.values()): yield v\n",
    "    @property\n",
    "    def k(self): return list(self.keys())\n",
    "    @property\n",
    "    def v(self): return list(self.values())"
   ]
  },
  {
   "cell_type": "code",
   "execution_count": 37,
   "metadata": {},
   "outputs": [],
   "source": [
    "# Initialization \n",
    "\n",
    "# Method 1 -- define it without consideration to initial order \n",
    "d = sdict(b='B', c='C', a='A', )\n",
    "\n",
    "# Method 2 -- define it one by one, order is maintained \n",
    "d = sdict()\n",
    "d['b'] = 'B'\n",
    "d['c'] = 'C'\n",
    "d['a'] = 'A'\n",
    "\n",
    "# Method 3 -- define using zip from two lists, order is maintained \n",
    "k = ['b','c','a']\n",
    "v = ['B','C','A']\n",
    "d = sdict(zip(k, v))\n"
   ]
  },
  {
   "cell_type": "code",
   "execution_count": 38,
   "metadata": {},
   "outputs": [
    {
     "name": "stdout",
     "output_type": "stream",
     "text": [
      "Data can be accessed via indexing by numbers or keys\n",
      "C\n",
      "C\n"
     ]
    }
   ],
   "source": [
    "# Accessing data \n",
    "print('Data can be accessed via indexing by numbers or keys')\n",
    "print(d[1])\n",
    "print(d['c'])"
   ]
  },
  {
   "cell_type": "code",
   "execution_count": 39,
   "metadata": {},
   "outputs": [
    {
     "name": "stdout",
     "output_type": "stream",
     "text": [
      "Data can be set via index or key\n",
      "C\n",
      "one\n",
      "C\n"
     ]
    }
   ],
   "source": [
    "# Changing Data \n",
    "print('Data can be set via index or key')\n",
    "print(d[1])\n",
    "d[1] = 'one'\n",
    "print(d[1])\n",
    "d['c'] = 'C'\n",
    "print(d['c'])"
   ]
  },
  {
   "cell_type": "code",
   "execution_count": 40,
   "metadata": {},
   "outputs": [
    {
     "name": "stdout",
     "output_type": "stream",
     "text": [
      "New entries must be added via key and value, not index\n",
      "sdict([('b', 'B'), ('c', 'C'), ('a', 'A'), ('z', 5)])\n"
     ]
    }
   ],
   "source": [
    "# Adding new elements \n",
    "print('New entries must be added via key and value, not index')\n",
    "d['z'] = 5\n",
    "print(d)"
   ]
  },
  {
   "cell_type": "code",
   "execution_count": 41,
   "metadata": {},
   "outputs": [
    {
     "name": "stdout",
     "output_type": "stream",
     "text": [
      "Get data by slicing\n",
      "[5, 'A', 'C', 'B']\n",
      "Set data by slicing\n",
      "sdict([('b', 'B'), ('c', 'C'), ('a', 'A'), ('z', 'Z')])\n",
      "sdict([('b', 'B'), ('c', 'C'), ('a', 'A'), ('z', 5)])\n"
     ]
    }
   ],
   "source": [
    "# Slicing for access and setting data \n",
    "print('Get data by slicing')\n",
    "print(d[::-1])\n",
    "print('Set data by slicing')\n",
    "d[-1:] = ['Z']\n",
    "print(d)\n",
    "d[-1] = 5\n",
    "print(d)"
   ]
  },
  {
   "cell_type": "code",
   "execution_count": 42,
   "metadata": {},
   "outputs": [
    {
     "name": "stdout",
     "output_type": "stream",
     "text": [
      "Getting the length\n",
      "4\n",
      "Iterating over all values\n",
      "['B', 'C', 'A', 5]\n",
      "Iterating over all key values\n",
      "{'a': 'A', 'b': 'B', 'z': 5, 'c': 'C'}\n"
     ]
    }
   ],
   "source": [
    "# Iterating \n",
    "print('Getting the length')\n",
    "print(len(d))\n",
    "print('Iterating over all values')\n",
    "print([*d])\n",
    "\n",
    "print('Iterating over all key values')\n",
    "print({**d})\n",
    "for k, v in d.items(): pass"
   ]
  },
  {
   "cell_type": "code",
   "execution_count": null,
   "metadata": {},
   "outputs": [],
   "source": []
  },
  {
   "cell_type": "code",
   "execution_count": null,
   "metadata": {
    "collapsed": true
   },
   "outputs": [],
   "source": []
  }
 ],
 "metadata": {
  "kernelspec": {
   "display_name": "Python [default]",
   "language": "python",
   "name": "python3"
  },
  "language_info": {
   "codemirror_mode": {
    "name": "ipython",
    "version": 3
   },
   "file_extension": ".py",
   "mimetype": "text/x-python",
   "name": "python",
   "nbconvert_exporter": "python",
   "pygments_lexer": "ipython3",
   "version": "3.5.3"
  },
  "toc": {
   "colors": {
    "hover_highlight": "#DAA520",
    "running_highlight": "#FF0000",
    "selected_highlight": "#FFD700"
   },
   "moveMenuLeft": true,
   "nav_menu": {
    "height": "12px",
    "width": "252px"
   },
   "navigate_menu": true,
   "number_sections": true,
   "sideBar": true,
   "threshold": 4,
   "toc_cell": false,
   "toc_section_display": "block",
   "toc_window_display": false
  }
 },
 "nbformat": 4,
 "nbformat_minor": 2
}
