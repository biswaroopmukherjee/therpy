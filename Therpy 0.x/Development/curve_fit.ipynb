{
 "cells": [
  {
   "cell_type": "code",
   "execution_count": 1,
   "metadata": {},
   "outputs": [
    {
     "name": "stdout",
     "output_type": "stream",
     "text": [
      "Internal Structure of therpy has changed.\n",
      "Now all functions (except for helper functions and imageio functions) are stored at one place therpy.funcs and available on root as tp.####.\n",
      "If there are errors in your program, simply replace tp.module_name.func_name to tp.func_name.\n",
      "If you would like to go back to old therpy, use pip install therpy==0.2.4 \n"
     ]
    }
   ],
   "source": [
    "import numpy as np\n",
    "import matplotlib.pyplot as plt\n",
    "%matplotlib inline\n",
    "import therpy as tp\n",
    "import pandas as pd\n",
    "from tqdm import tqdm_notebook as tqdm\n",
    "import scipy.optimize"
   ]
  },
  {
   "cell_type": "code",
   "execution_count": 2,
   "metadata": {
    "code_folding": [
     3
    ],
    "collapsed": true
   },
   "outputs": [],
   "source": [
    "divide_axes = tp.divide_axes\n",
    "sdict = tp.sdict\n",
    "\n",
    "class curve_fit: \n",
    "    '''\n",
    "    Least square curve fitting to {x,y} data \n",
    "    ========================================\n",
    "    Inputs Required : \n",
    "        fitfun - python function with inputs (of type x_data, p0, p1, p2, p3, ...) and returns np.array y_data \n",
    "        guess  - could be a simple list, or more detailed dict (see below for more info) \n",
    "        x_data - I think this could be anything supported by fitfun input, to be safe, keep it np.array \n",
    "        y_data - must be np.array \n",
    "\n",
    "    Inputs Optional : \n",
    "        y_err - sigma for the y_data, defaults to np.ones_like(y_data). The following is optimized sum ( (y_data-fitfun(...))/y_err )^2\n",
    "        fixed - dict(gradient = 0, tau = 5, ...) : parameters to fix. NOTE: if guess contains the same key, that key will not be fixed \n",
    "        plot  - True / False : Plots a standard figure with data, fit line, residuals \n",
    "        info  - True / False : print(self.fr) \n",
    "\n",
    "    guess : \n",
    "        1) guess = [12, 3, -np.pi, ...] : a simple list \n",
    "        2) guess = [ [12, (10, 14), 'meter'], 3, [np.pi, (0, 2*np.pi)], ...] : mixture of simple value and fancy list \n",
    "        A fancy list for a guess contains up to three items -- the guess value itself, a tuple for lower and upper bounds, a string for units\n",
    "        A fancy list must contain the guess itself, but the other two things are optional \n",
    "        3) guess = dict(tau = 12, phase = [np.pi, (0, 2*np.pi), 'radians'], ...) : a dictionary containing mixture of simple value and fancy list \n",
    "\n",
    "    MUST DO : \n",
    "        - Make sure x_data, y_data, and y_err is valid for fitfun input/output and DOES NOT contain inf or nan. \n",
    "\n",
    "    Properties : self.xxxxxx\n",
    "        x, y, y_err, success, fitfun \n",
    "        fr : pandas dataframe of the fitresults\n",
    "        fv : indexable sdict of fit values with parameters as keys, including the fixed and default parameters\n",
    "        fe : indexable sdict of fit errors with parameters as keys, including the fixed and default parameters\n",
    "        ul : indexable sdict of upper limit of fit values with parameters as keys, including the fixed and default parameters\n",
    "        ll : indexable sdict of lower limit of fit values with parameters as keys, including the fixed and default parameters\n",
    "        xp : finely spaced grid for same x range : np.linspace(self.x.min(), self.x.max(), 1000)\n",
    "        ye : short form for y_err\n",
    "\n",
    "    Special Methods : \n",
    "        __call__ : returns fitted curve at optionally provided x and overridden parameters : self(), self(x, phase=0, amp=0, ...), self(self.xp), \n",
    "        __len__ : len(self) returns the number of parameters the fitfun takes \n",
    "        __getitem__ : self['amp'] or self[1] : returns the fir value for given key or index \n",
    "        __setitem__ : self['amp'] = 0 or self[1] = 0 : fixes the \n",
    "        __bool__ : if self: or bool(self) : true if the fit was successful \n",
    "        __repr__ or __str__ : str(self) or print(self) : returns the fitresults in printable format \n",
    "\n",
    "    Methods : self.xxx(aa=yy, bb=yy, ..)\n",
    "        yband(x = None, using=[]) : \n",
    "        plot()\n",
    "            two plots, data and fit curve on top, and residuals below. Optional inputs \n",
    "            ax : to plot somewhere specific\n",
    "            fiterrors = False : include fit error band along with optimal fit \n",
    "            using = [] : which parameters to sue to calculate fiterrors band \n",
    "            divider = 0.25 : how to split the axes for residuals \n",
    "        plot_fitdata(ax=None, x=None) : data and fit curve \n",
    "        plot_residuals(ax=None) : residuals \n",
    "        plot_residuals_hist(ax=None, orientation='vertical) : histogram of the residuals \n",
    "        plot_fiterrors(ax=None, x=None, using=[]) : fit error band, optinally include only keys in using \n",
    "    '''\n",
    "    def __init__(self, fitfun, guess, x_data, y_data, y_err=None, fixed=dict(), plot=False, info=False): \n",
    "        ''' init will fit the data and save fitresults '''\n",
    "        ### Verify inputs \n",
    "        if not callable(fitfun): print(\"provided fitfun is not valid python function!\")\n",
    "        \n",
    "        ### Process single item from guess -- return guess value, bounds, units \n",
    "        def temp_process_guess_item(item):\n",
    "            units, bounds = None, [-np.inf, np.inf] # default value\n",
    "            if type(item) in [list, tuple, np.ndarray]:\n",
    "                value = item[0]\n",
    "                if len(item) > 3: return [value, bounds, units]\n",
    "                for i in item[1:]:\n",
    "                    if type(i) is str: units = i\n",
    "                    elif type(i) in [list, tuple, np.ndarray]: bounds = i\n",
    "            else: value = item\n",
    "            return [value, bounds, units]\n",
    "        \n",
    "        ### Process guess -- generate guess_keys, guess_values, guess_bounds, guess_units \n",
    "        # the order of keys will be determined by the order of fitfun input order \n",
    "        if type(guess) == dict:\n",
    "            guess_keys = [k for k in fitfun.__code__.co_varnames[1:] if k in list(guess.keys())]\n",
    "            temp_ = [temp_process_guess_item(guess[k]) for k in guess_keys]\n",
    "        elif type(guess) in [list, tuple, np.ndarray]:\n",
    "            guess_keys = fitfun.__code__.co_varnames[1:1+len(guess)]\n",
    "            temp_ = [temp_process_guess_item(i) for i in guess]\n",
    "        elif (type(guess) in [float, int]) or (np.issubdtype(guess, np.number)):\n",
    "            guess_keys = fitfun.__code__.co_varnames[1:2]\n",
    "            temp_ = [temp_process_guess_item(guess)]\n",
    "        else:\n",
    "            print('Does NOT understand data type of guess : ', guess)\n",
    "        guess_values, guess_bounds, guess_units = np.array([i[0] for i in temp_]), np.array([i[1] for i in temp_]).T, [i[2] for i in temp_]\n",
    "        \n",
    "        ### Extract all fixed items, including provided and default ones\n",
    "        fixed_func_defaults = {k:v for k, v in zip(fitfun.__code__.co_varnames[-len(fitfun.__defaults__):], fitfun.__defaults__)}\n",
    "        fixed_dict = {**fixed_func_defaults, **fixed}\n",
    "        for k in guess_keys: fixed_dict.pop(k, None)\n",
    "        \n",
    "        ### Define temp fitfun for internal use only \n",
    "        def fitfun_args(x, *args):\n",
    "            return fitfun(x, **{k: v for k, v in zip(guess_keys, args)}, **fixed_dict)\n",
    "        \n",
    "        ### Fit Data \n",
    "        success = False\n",
    "        try:\n",
    "            fv_, fe_ = scipy.optimize.curve_fit(fitfun_args, x_data, y_data, guess_values, sigma=y_err, bounds=guess_bounds)\n",
    "            fe_ = np.sqrt(np.diag(fe_))\n",
    "            success = True\n",
    "        except (ValueError, RuntimeError) as err: \n",
    "            fv_, fe_ = guess_values, guess_values*np.nan\n",
    "            print(\"CAN'T FIT, Returning Original Guess: Details of Error :: {}\".format(err))\n",
    "            \n",
    "        ### Formatting Fit Results \n",
    "        fitresults_dict = dict(FitValue=fv_, FitError=fe_, Units=guess_units, Guess=guess_values, LowerBound=guess_bounds[0], UpperBound=guess_bounds[1])\n",
    "        fitresults_df = pd.DataFrame(fitresults_dict, index=guess_keys, columns=['FitValue','FitError','Units','Guess','LowerBound','UpperBound'])\n",
    "        for k, v in fixed_dict.items(): fitresults_df.loc[k] = [v, 0, None, v, v, v]\n",
    "        fitresults_df = fitresults_df.loc[fitfun.__code__.co_varnames[1:], :] # sort the index by function input list \n",
    "        fitresults_df['FitError%'] = np.nan_to_num(np.abs(fitresults_df['FitError'] / fitresults_df['FitValue'])) * 100\n",
    "        \n",
    "        ### Store results to self\n",
    "        self.fr = fitresults_df\n",
    "        self.fitfun = fitfun\n",
    "        self.success = success\n",
    "        self.x = x_data\n",
    "        self.y = y_data\n",
    "        self.y_err = y_err\n",
    "        \n",
    "        ### Plots and display \n",
    "        if plot: self.plot()\n",
    "        if info: print(self)\n",
    "    \n",
    "    @property\n",
    "    def fv(self): return sdict(zip(self.fr.index.values, self.fr['FitValue'].values))\n",
    "    @property\n",
    "    def fe(self): return sdict(zip(self.fr.index.values, self.fr['FitError'].values))\n",
    "    @property\n",
    "    def ul(self): return sdict(zip(self.fr.index.values, self.fr['FitValue'].values + self.fr['FitError'].values))\n",
    "    @property\n",
    "    def ll(self): return sdict(zip(self.fr.index.values, self.fr['FitValue'].values - self.fr['FitError'].values))\n",
    "    @property\n",
    "    def xp(self): return np.linspace(self.x.min(), self.x.max(), 1000)\n",
    "    @property\n",
    "    def ye(self): return self.y_err\n",
    "    \n",
    "    def __call__(self, *args, **kwargs): \n",
    "        '''get the fit line evaluated at *args (self.x) with **kwargs overridden'''\n",
    "        x = args[0] if len(args) == 1 else self.x\n",
    "        return self.fitfun(x, **{**self.fv, **kwargs})\n",
    "    def __len__(self): return len(self.fv)\n",
    "    def __getitem__(self, key): \n",
    "        if (type(key) in [int, float]): return self.fv[int(key)]\n",
    "        elif type(key) == str: return self.fv.get(key, None)\n",
    "    def __setitem__(self, key, value): \n",
    "        if type(key) in [int, float]: key = self.fr.index.values[int(key)]\n",
    "        r = self.fr.loc[key].values\n",
    "        r[0], r[1], r[6] = value, 0, 0\n",
    "        self.fr.loc[key] = r\n",
    "    def __bool__(self): return self.success\n",
    "    def __repr__(self): return self.fr.to_string()\n",
    "    def __str__(self): return self.fr.to_string()\n",
    "    \n",
    "    def yband(self, x=None, using=[]):\n",
    "        '''Return (y_min, y_max) at x including using list of fit errors'''\n",
    "        if x is None: x = self.x \n",
    "        if type(using) == str: using = [using,]\n",
    "        if len(using) == 0: using = self.fr.index.values\n",
    "        ys = [self(x)]\n",
    "        for k in using:\n",
    "            ys.append(self(x, **{k : self.fv[k] - self.fe[k]}))\n",
    "            ys.append(self(x, **{k : self.fv[k] + self.fe[k]}))\n",
    "        return (np.min(ys, axis=0), np.max(ys, axis=0))\n",
    "    def plot_fitdata(self, ax=None, x=None):\n",
    "        '''Plot data and the fitline on ax (or new figure) with x (or self.xp) for fitline'''\n",
    "        if x is None: x = self.xp\n",
    "        if ax is None: fig, ax = plt.subplots()\n",
    "        ax.errorbar(self.x, self.y, self.y_err, fmt='r.')\n",
    "        ax.plot(x, self(x), 'k')\n",
    "        return ax\n",
    "    def plot_residuals(self, ax=None):\n",
    "        '''Plot residual with vertical lines and zero line on ax (or new figure)'''\n",
    "        if ax is None: fig, ax = plt.subplots()\n",
    "        ax.axhline(0, c='k', alpha=0.5)\n",
    "        ax.vlines(self.x, self.x*0, self.y-self())\n",
    "        ax.plot(self.x, self.y-self(), 'r.')\n",
    "        return ax\n",
    "    def plot_residuals_hist(self, ax=None, orientation='vertical'):\n",
    "        '''Plot histogram of the residul on ax (or new figure) with orientation either vertical or horizontal'''\n",
    "        if ax is None: fig, ax = plt.subplots()\n",
    "        ax.hist(self.y-self(), orientation=orientation)\n",
    "        return ax\n",
    "    def plot_fiterrors(self, ax=None, x=None, using=[]):\n",
    "        '''Plot a band of y representing fit errors : on ax (or a new figure) with x (or self.ax) and with using list (or all) of fit variables'''\n",
    "        if x is None: x = self.xp\n",
    "        ax = self.plot_fitdata(ax)\n",
    "        ax.fill_between(x, *self.yband(x=x, using=using), color='g', alpha=0.25)\n",
    "        return ax\n",
    "    def plot(self, ax=None, x=None, fiterrors=True, using=[], divider=0.25):\n",
    "        '''Plot data with fitline and '''\n",
    "        if ax is None: ax = plt.subplots(figsize=[5,5])[1]\n",
    "        if x is None: x = self.xp\n",
    "        (ax1, ax2) = divide_axes(ax, divider=divider, direction='vertical', shared=True)\n",
    "        if fiterrors: self.plot_fiterrors(ax=ax1, x=x, using=using)\n",
    "        else: self.plot_fitdata(ax=ax1, x=x)\n",
    "        self.plot_residuals(ax2)\n",
    "        return (ax1, ax2)\n",
    "\n",
    "\n",
    "curve_fit = tp.curve_fit"
   ]
  },
  {
   "cell_type": "code",
   "execution_count": 7,
   "metadata": {},
   "outputs": [
    {
     "name": "stdout",
     "output_type": "stream",
     "text": [
      "            FitValue  FitError Units  Guess  LowerBound  UpperBound  FitError%\n",
      "period     20.035548  0.098608  None   20.0        -inf         inf   0.492166\n",
      "tau        30.237674  1.482386  None   30.0        -inf         inf   4.902448\n",
      "amp        -2.061863  0.069758  None    1.0        -inf         inf   3.383270\n",
      "offset      0.000000  0.000000   NaN    0.0    0.000000    0.000000   0.000000\n",
      "gradient    0.000000  0.000000  None    0.0    0.000000    0.000000   0.000000\n",
      "phase       3.344277  0.031544  None    3.0        -inf         inf   0.943228\n",
      "curvature   0.000000  0.000000  None    0.0    0.000000    0.000000   0.000000\n"
     ]
    },
    {
     "data": {
      "image/png": "[encoded data removed]",
      "text/plain": [
       "<matplotlib.figure.Figure at 0x120022c50>"
      ]
     },
     "metadata": {},
     "output_type": "display_data"
    }
   ],
   "source": [
    "# Fitting function \n",
    "def fitfun(t, period=1, tau=1, amp=1, offset=0, gradient=0, phase = 0, curvature=0):\n",
    "    return amp * np.exp(- t / tau) * np.sin(2*np.pi*t/period + phase) + offset + gradient * t + curvature * t**2 \n",
    "\n",
    "# Generate Data \n",
    "x = np.linspace(0, 100, 60)\n",
    "y = fitfun(x, 20, 30, 2.1, 0, 0, 0.2, 0)\n",
    "x_data = x\n",
    "y_data = y + np.random.normal(scale=0.1, size=y.shape)\n",
    "\n",
    "# Guess \n",
    "guess = dict(period=20, tau = 30, amp = 1, phase = 3)\n",
    "fixed = dict(offset=0, gradient = 0, curvature = 0)\n",
    "\n",
    "cf = curve_fit(fitfun, guess, x_data, y_data, fixed=fixed)\n",
    "ax = cf.plot(fiterrors=True, using=[], x=np.linspace(-1, 110, 1000))\n",
    "print(cf)"
   ]
  },
  {
   "cell_type": "code",
   "execution_count": 4,
   "metadata": {},
   "outputs": [
    {
     "name": "stdout",
     "output_type": "stream",
     "text": [
      "        FitValue  FitError Units  Guess  LowerBound  UpperBound  FitError%\n",
      "rate    0.252381  0.017770  None    0.2        -inf         inf   7.040974\n",
      "amp     0.841376  0.043182  None    2.0        -inf         inf   5.132252\n",
      "offset  0.000000  0.000000   NaN    0.0    0.000000    0.000000   0.000000\n"
     ]
    },
    {
     "data": {
      "image/png": "[encoded data removed]",
      "text/plain": [
       "<matplotlib.figure.Figure at 0x11ff33eb8>"
      ]
     },
     "metadata": {},
     "output_type": "display_data"
    }
   ],
   "source": [
    "# Fitting function \n",
    "def fitfun(t, rate = 0, amp = 0, offset=0):\n",
    "    return amp * (1 - np.exp(-rate * t)) + offset\n",
    "\n",
    "# Generate Data \n",
    "x = np.linspace(0, 4, 20)\n",
    "y = fitfun(x, 0.2, 1, 0)\n",
    "x_data = x\n",
    "y_data = y + np.random.normal(scale=0.01, size=y.shape)\n",
    "y_err = np.random.normal(scale=0.01, size=y.shape)\n",
    "\n",
    "# Guess \n",
    "guess = dict(rate = [0.2, ], amp=2 )\n",
    "fixed = dict()\n",
    "\n",
    "cf = curve_fit(fitfun, guess, x_data, y_data, y_err, fixed=fixed)\n",
    "ax1, ax2 = cf.plot(fiterrors=False, using=[])\n",
    "ax1.fill_between(cf.xp, *cf.yband(x=cf.xp), color='C2', alpha=0.3)\n",
    "print(cf)"
   ]
  },
  {
   "cell_type": "code",
   "execution_count": 5,
   "metadata": {
    "code_folding": [
     0
    ]
   },
   "outputs": [
    {
     "name": "stdout",
     "output_type": "stream",
     "text": [
      "        FitValue  FitError Units  Guess  LowerBound  UpperBound  FitError%\n",
      "rate    0.252381  0.017770  None    0.2        -inf         inf   7.040974\n",
      "amp     0.841376  0.043182  None    2.0        -inf         inf   5.132252\n",
      "offset  0.000000  0.000000   NaN    0.0    0.000000    0.000000   0.000000\n",
      "[ True  True  True  True  True  True  True  True  True  True  True  True\n",
      "  True  True  True  True  True  True  True  True]\n",
      "[ True  True  True  True  True  True  True  True  True  True  True  True\n",
      "  True  True  True  True  True  True  True  True]\n",
      "[ True  True  True  True  True  True  True  True  True  True  True  True\n",
      "  True  True  True  True  True  True  True  True]\n",
      "        FitValue  FitError Units  Guess  LowerBound  UpperBound  FitError%\n",
      "rate    0.252381  0.017770  None    0.2        -inf         inf   7.040974\n",
      "amp     0.841376  0.043182  None    2.0        -inf         inf   5.132252\n",
      "offset  0.000000  0.000000   NaN    0.0    0.000000    0.000000   0.000000\n"
     ]
    }
   ],
   "source": [
    "# Testing all features of the \n",
    "\n",
    "# Properties \n",
    "print(cf.fr)\n",
    "print(cf.x == x_data)\n",
    "print(cf.y == y_data)\n",
    "print(cf.ye == y_err)\n",
    "\n",
    "print(cf)"
   ]
  },
  {
   "cell_type": "code",
   "execution_count": null,
   "metadata": {
    "collapsed": true
   },
   "outputs": [],
   "source": []
  },
  {
   "cell_type": "code",
   "execution_count": null,
   "metadata": {
    "collapsed": true
   },
   "outputs": [],
   "source": []
  },
  {
   "cell_type": "code",
   "execution_count": null,
   "metadata": {
    "collapsed": true
   },
   "outputs": [],
   "source": []
  },
  {
   "cell_type": "code",
   "execution_count": null,
   "metadata": {
    "collapsed": true
   },
   "outputs": [],
   "source": []
  }
 ],
 "metadata": {
  "kernelspec": {
   "display_name": "Python [conda root]",
   "language": "python",
   "name": "conda-root-py"
  },
  "language_info": {
   "codemirror_mode": {
    "name": "ipython",
    "version": 3
   },
   "file_extension": ".py",
   "mimetype": "text/x-python",
   "name": "python",
   "nbconvert_exporter": "python",
   "pygments_lexer": "ipython3",
   "version": "3.5.3"
  },
  "toc": {
   "colors": {
    "hover_highlight": "#DAA520",
    "running_highlight": "#FF0000",
    "selected_highlight": "#FFD700"
   },
   "moveMenuLeft": true,
   "nav_menu": {
    "height": "12px",
    "width": "252px"
   },
   "navigate_menu": true,
   "number_sections": true,
   "sideBar": true,
   "threshold": 4,
   "toc_cell": false,
   "toc_section_display": "block",
   "toc_window_display": false
  }
 },
 "nbformat": 4,
 "nbformat_minor": 2
}
