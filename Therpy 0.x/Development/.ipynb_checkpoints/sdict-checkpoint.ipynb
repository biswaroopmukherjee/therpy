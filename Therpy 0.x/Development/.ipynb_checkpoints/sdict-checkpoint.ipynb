{
 "cells": [
  {
   "cell_type": "code",
   "execution_count": 1,
   "metadata": {
    "collapsed": true
   },
   "outputs": [],
   "source": [
    "import collections\n",
    "import therpy as tp"
   ]
  },
  {
   "cell_type": "code",
   "execution_count": null,
   "metadata": {
    "collapsed": true
   },
   "outputs": [],
   "source": [
    "class dictio:\n",
    "    '''\n",
    "    Needs Work : subclass dict : add store and retrive information from file\n",
    "    =============================\n",
    "    Get inspiration from sdict\n",
    "    '''\n",
    "    def __init__(self,*args,**kwargs):\n",
    "        # Get data from the inputs\n",
    "        if len(args) is 1 and type(args[0]) is dict: self.data = args[0]\n",
    "        elif len(args) is 1 and type(args[0]) is str: self.data = self.fromfile(filepath=args[0])\n",
    "        elif \"filepath\" in kwargs.keys(): self.data = self.fromfile(filepath=kwargs['filepath'])\n",
    "        else: self.data = kwargs\n",
    "\n",
    "    def __str__(self):\n",
    "        return str(self.data)\n",
    "\n",
    "    def __repr__(self):\n",
    "        return str(self.data)\n",
    "\n",
    "    def __iter__(self):\n",
    "        return iter(self.data.keys())\n",
    "\n",
    "    def tofile(self,filepath=None):\n",
    "        current_time_str = time.strftime(\"%m-%d-%Y_%H_%M_%S_dictioOutput.txt\")\n",
    "        default_dictio_filepath = getpath('Default Storage','dictio',current_time_str)\n",
    "        if filepath is None: filepath = default_dictio_filepath\n",
    "        fid = open(filepath,'w')\n",
    "        for key in self.data.keys():\n",
    "            val = self.data[key]\n",
    "            typestr = str(type(val))\n",
    "            typestr = typestr[typestr.find(\"'\")+1:]\n",
    "            typestr = typestr[:typestr.find(\"'\")]\n",
    "            fid.write(\"{}\\t{}\\t{}\\n\".format(key, val, typestr))\n",
    "        fid.close()\n",
    "        return filepath\n",
    "\n",
    "    def fromfile(self,filepath=None):\n",
    "        data = dict()\n",
    "        if filepath is None: return data\n",
    "        fid = open(filepath,'r')\n",
    "        for line in fid:\n",
    "            key = line[:line.find(\"\\t\")]\n",
    "            line = line[line.find(\"\\t\")+1:]\n",
    "            val = line[:line.find(\"\\t\")]\n",
    "            line = line[line.find(\"\\t\")+1:]\n",
    "            typestr = line[:line.find(\"\\n\")]\n",
    "            if typestr == 'str': val = str(val)\n",
    "            elif typestr == 'int': val = int(val)\n",
    "            elif typestr == 'float': val = float(val)\n",
    "            data[key] = val\n",
    "        return data\n",
    "\n",
    "    def get(self,key,default=None):\n",
    "        if key in self.data.keys():\n",
    "            return self.data[key]\n",
    "        else:\n",
    "            return default"
   ]
  },
  {
   "cell_type": "code",
   "execution_count": 9,
   "metadata": {
    "collapsed": true
   },
   "outputs": [],
   "source": [
    "class sdict(collections.OrderedDict):\n",
    "    def __init__(self, *args, **kwargs): \n",
    "        super(sdict, self).__init__(*args, **kwargs)\n",
    "    def __getitem__(self, k):\n",
    "        if type(k) == slice: return list(self.values())[k]\n",
    "        if type(k) in [int, float]: k = list(self.keys())[int(k)]\n",
    "        return super(sdict, self).__getitem__(k)\n",
    "    def __setitem__(self, k, v):\n",
    "        if type(k) == slice: \n",
    "            for ki,vi in zip(list(self.keys())[k], v): super(sdict, self).__setitem__(ki, vi)\n",
    "        elif type(k) in [int, float]: super(sdict, self).__setitem__(list(self.keys())[int(k)], v)\n",
    "        else: super(sdict, self).__setitem__(k, v)\n",
    "    def __iter__(self):\n",
    "        for v in list(self.values()): yield v\n",
    "    @property\n",
    "    def k(self): return list(self.keys())\n",
    "    @property\n",
    "    def v(self): return list(self.values())\n",
    "    def tofile(self, filepath):\n",
    "        pass\n",
    "    def fromfile(self, filepath):\n",
    "        pass\n",
    "\n",
    "# sdict = tp.sdict"
   ]
  },
  {
   "cell_type": "code",
   "execution_count": 10,
   "metadata": {
    "collapsed": true
   },
   "outputs": [],
   "source": [
    "# Initialization \n",
    "\n",
    "# Method 1 -- define it without consideration to initial order \n",
    "d = sdict(b='B', c='C', a='A', )\n",
    "\n",
    "# Method 2 -- define it one by one, order is maintained \n",
    "d = sdict()\n",
    "d['b'] = 'B'\n",
    "d['c'] = 'C'\n",
    "d['a'] = 'A'\n",
    "\n",
    "# Method 3 -- define using zip from two lists, order is maintained \n",
    "k = ['b','c','a']\n",
    "v = ['B','C','A']\n",
    "d = sdict(zip(k, v))\n"
   ]
  },
  {
   "cell_type": "code",
   "execution_count": 11,
   "metadata": {},
   "outputs": [
    {
     "name": "stdout",
     "output_type": "stream",
     "text": [
      "Data can be accessed via indexing by numbers or keys\n",
      "C\n",
      "C\n"
     ]
    }
   ],
   "source": [
    "# Accessing data \n",
    "print('Data can be accessed via indexing by numbers or keys')\n",
    "print(d[1])\n",
    "print(d['c'])"
   ]
  },
  {
   "cell_type": "code",
   "execution_count": 12,
   "metadata": {},
   "outputs": [
    {
     "name": "stdout",
     "output_type": "stream",
     "text": [
      "Data can be set via index or key\n",
      "C\n",
      "one\n",
      "C\n"
     ]
    }
   ],
   "source": [
    "# Changing Data \n",
    "print('Data can be set via index or key')\n",
    "print(d[1])\n",
    "d[1] = 'one'\n",
    "print(d[1])\n",
    "d['c'] = 'C'\n",
    "print(d['c'])"
   ]
  },
  {
   "cell_type": "code",
   "execution_count": 13,
   "metadata": {},
   "outputs": [
    {
     "name": "stdout",
     "output_type": "stream",
     "text": [
      "New entries must be added via key and value, not index\n",
      "sdict([('b', 'B'), ('c', 'C'), ('a', 'A'), ('z', 5)])\n"
     ]
    }
   ],
   "source": [
    "# Adding new elements \n",
    "print('New entries must be added via key and value, not index')\n",
    "d['z'] = 5\n",
    "print(d)"
   ]
  },
  {
   "cell_type": "code",
   "execution_count": 14,
   "metadata": {},
   "outputs": [
    {
     "name": "stdout",
     "output_type": "stream",
     "text": [
      "Get data by slicing\n",
      "[5, 'A', 'C', 'B']\n",
      "Set data by slicing\n",
      "sdict([('b', 'B'), ('c', 'C'), ('a', 'A'), ('z', 'Z')])\n",
      "sdict([('b', 'B'), ('c', 'C'), ('a', 'A'), ('z', 5)])\n"
     ]
    }
   ],
   "source": [
    "# Slicing for access and setting data \n",
    "print('Get data by slicing')\n",
    "print(d[::-1])\n",
    "print('Set data by slicing')\n",
    "d[-1:] = ['Z']\n",
    "print(d)\n",
    "d[-1] = 5\n",
    "print(d)"
   ]
  },
  {
   "cell_type": "code",
   "execution_count": 15,
   "metadata": {},
   "outputs": [
    {
     "name": "stdout",
     "output_type": "stream",
     "text": [
      "Getting the length\n",
      "4\n",
      "Iterating over all values\n",
      "['B', 'C', 'A', 5]\n",
      "Iterating over all key values\n",
      "{'a': 'A', 'z': 5, 'b': 'B', 'c': 'C'}\n"
     ]
    }
   ],
   "source": [
    "# Iterating \n",
    "print('Getting the length')\n",
    "print(len(d))\n",
    "print('Iterating over all values')\n",
    "print([*d])\n",
    "\n",
    "print('Iterating over all key values')\n",
    "print({**d})\n",
    "for k, v in d.items(): pass"
   ]
  },
  {
   "cell_type": "code",
   "execution_count": null,
   "metadata": {
    "collapsed": true
   },
   "outputs": [],
   "source": []
  },
  {
   "cell_type": "code",
   "execution_count": null,
   "metadata": {
    "collapsed": true
   },
   "outputs": [],
   "source": []
  },
  {
   "cell_type": "code",
   "execution_count": null,
   "metadata": {
    "collapsed": true
   },
   "outputs": [],
   "source": []
  }
 ],
 "metadata": {
  "kernelspec": {
   "display_name": "Python [default]",
   "language": "python",
   "name": "python3"
  },
  "language_info": {
   "codemirror_mode": {
    "name": "ipython",
    "version": 3
   },
   "file_extension": ".py",
   "mimetype": "text/x-python",
   "name": "python",
   "nbconvert_exporter": "python",
   "pygments_lexer": "ipython3",
   "version": "3.5.3"
  },
  "toc": {
   "colors": {
    "hover_highlight": "#DAA520",
    "running_highlight": "#FF0000",
    "selected_highlight": "#FFD700"
   },
   "moveMenuLeft": true,
   "nav_menu": {
    "height": "12px",
    "width": "252px"
   },
   "navigate_menu": true,
   "number_sections": true,
   "sideBar": true,
   "threshold": 4,
   "toc_cell": false,
   "toc_section_display": "block",
   "toc_window_display": false
  }
 },
 "nbformat": 4,
 "nbformat_minor": 2
}
