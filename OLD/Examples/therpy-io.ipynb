{
 "cells": [
  {
   "cell_type": "code",
   "execution_count": 15,
   "metadata": {
    "collapsed": true
   },
   "outputs": [],
   "source": [
    "### Beginning of jupyter notebook\n",
    "# Housekeeping\n",
    "import os.path, sys\n",
    "sys.path.append(os.path.join(os.path.expanduser('~'), 'Documents', 'My Programs', 'Python Library'))\n",
    "# Matplotlib backend interactive\n",
    "# import matplotlib\n",
    "# matplotlib.use('nbagg')\n",
    "# Matplotlib backend static\n",
    "%matplotlib inline\n",
    "# Imports\n",
    "import numpy as np\n",
    "import pandas as pd\n",
    "import matplotlib.pyplot as plt\n",
    "import therpy as tp"
   ]
  },
  {
   "cell_type": "markdown",
   "metadata": {},
   "source": [
    "# dictio"
   ]
  },
  {
   "cell_type": "code",
   "execution_count": 20,
   "metadata": {
    "collapsed": false
   },
   "outputs": [
    {
     "name": "stdout",
     "output_type": "stream",
     "text": [
      "{'height': 10, 'name': 'therpy', 'taste': 'tabbings', 'age': 0.1}\n"
     ]
    }
   ],
   "source": [
    "# Define dictio by giving it a dict\n",
    "mydict = dict(name=\"therpy\",age=0.1,taste='tabbings',height=10)\n",
    "tio = tp.dictio(mydict)\n",
    "print(tio)"
   ]
  },
  {
   "cell_type": "code",
   "execution_count": 21,
   "metadata": {
    "collapsed": false
   },
   "outputs": [
    {
     "name": "stdout",
     "output_type": "stream",
     "text": [
      "{'height': 10, 'name': 'therpy', 'taste': 'tabbings', 'age': 0.1}\n"
     ]
    }
   ],
   "source": [
    "# Difine by giving **kwargs\n",
    "tio = tp.dictio(name=\"therpy\",age=0.1,taste='tabbings',height=10)\n",
    "print(tio)"
   ]
  },
  {
   "cell_type": "code",
   "execution_count": 22,
   "metadata": {
    "collapsed": false
   },
   "outputs": [
    {
     "name": "stdout",
     "output_type": "stream",
     "text": [
      "/Users/RanchoP/Documents/My Programs/Default Storage/dictio/06-02-2016_11_45_13_dictioOutput.txt\n"
     ]
    }
   ],
   "source": [
    "# Store to a text file.\n",
    "# if filepath is not provided, it will store to default location\n",
    "stored_path = tio.tofile(filepath=None)\n",
    "print(stored_path)"
   ]
  },
  {
   "cell_type": "code",
   "execution_count": 24,
   "metadata": {
    "collapsed": false
   },
   "outputs": [
    {
     "name": "stdout",
     "output_type": "stream",
     "text": [
      "{'height': 10, 'name': 'therpy', 'age': 0.1, 'taste': 'tabbings'}\n"
     ]
    }
   ],
   "source": [
    "# Define with data from stored file\n",
    "tio = tp.dictio(filepath = stored_path)\n",
    "print(tio)"
   ]
  },
  {
   "cell_type": "code",
   "execution_count": null,
   "metadata": {
    "collapsed": false
   },
   "outputs": [],
   "source": []
  },
  {
   "cell_type": "code",
   "execution_count": null,
   "metadata": {
    "collapsed": false
   },
   "outputs": [],
   "source": []
  },
  {
   "cell_type": "code",
   "execution_count": null,
   "metadata": {
    "collapsed": true
   },
   "outputs": [],
   "source": []
  }
 ],
 "metadata": {
  "kernelspec": {
   "display_name": "Python 3",
   "language": "python",
   "name": "python3"
  },
  "language_info": {
   "codemirror_mode": {
    "name": "ipython",
    "version": 3
   },
   "file_extension": ".py",
   "mimetype": "text/x-python",
   "name": "python",
   "nbconvert_exporter": "python",
   "pygments_lexer": "ipython3",
   "version": "3.5.1"
  }
 },
 "nbformat": 4,
 "nbformat_minor": 0
}
