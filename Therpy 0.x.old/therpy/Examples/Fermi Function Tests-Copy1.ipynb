{
 "cells": [
  {
   "cell_type": "code",
   "execution_count": 1,
   "metadata": {
    "collapsed": true
   },
   "outputs": [],
   "source": [
    "import os.path, sys\n",
    "sys.path.append(os.path.join(os.path.expanduser('~'), 'Documents', 'My Programs', 'Python Library'))\n",
    "%matplotlib inline\n",
    "import numpy as np\n",
    "import pandas as pd\n",
    "import matplotlib.pyplot as plt\n",
    "import therpy_working as tp\n",
    "import time"
   ]
  },
  {
   "cell_type": "markdown",
   "metadata": {},
   "source": [
    "## High Z Limit Timing"
   ]
  },
  {
   "cell_type": "code",
   "execution_count": 12,
   "metadata": {
    "collapsed": false
   },
   "outputs": [
    {
     "name": "stdout",
     "output_type": "stream",
     "text": [
      "Exact  timing: 0.926 s / 1000\n",
      "Approx timing: 0.015 s / 1000\n",
      "Improvement of 61.169 x\n",
      "Exact: 38.898733 vs Appx: 38.898731\n"
     ]
    }
   ],
   "source": [
    "m = 3/2\n",
    "logz = 13.82\n",
    "z = np.exp(logz)\n",
    "N = 10000\n",
    "\n",
    "start = time.time()\n",
    "for i in range(N): ff1 = tp.functions.FermiFunctionExact_(m,z)\n",
    "stop = time.time()\n",
    "time_exact = stop - start\n",
    "\n",
    "start = time.time()\n",
    "for i in range(N): ff2 = tp.functions.FermiFunctionLargeZ_(m,logz)\n",
    "stop = time.time()\n",
    "time_approx = stop - start\n",
    "\n",
    "print(\"Exact  timing: {:.3f} s / 1000\".format(time_exact/N*1e3))\n",
    "print(\"Approx timing: {:.3f} s / 1000\".format(time_approx/N*1e3))\n",
    "print(\"Improvement of {:.3f} x\".format(time_exact/time_approx))\n",
    "print(\"Exact: {:.6f} vs Appx: {:.6f}\".format(ff1, ff2))"
   ]
  },
  {
   "cell_type": "markdown",
   "metadata": {},
   "source": [
    "## Low Z Limit Timing"
   ]
  },
  {
   "cell_type": "code",
   "execution_count": 15,
   "metadata": {
    "collapsed": false
   },
   "outputs": [
    {
     "name": "stdout",
     "output_type": "stream",
     "text": [
      "Exact  timing: 0.565 s / 1000\n",
      "Approx timing: 0.002 s / 1000\n",
      "Improvement of 348.107 x\n",
      "Exact: 0.049139 vs Appx: 0.049139\n"
     ]
    }
   ],
   "source": [
    "m = 3/2\n",
    "z = 0.05\n",
    "logz = np.log(z)\n",
    "N = 10000\n",
    "\n",
    "start = time.time()\n",
    "for i in range(N): ff1 = tp.functions.FermiFunctionExact_(m,z)\n",
    "stop = time.time()\n",
    "time_exact = stop - start\n",
    "\n",
    "start = time.time()\n",
    "for i in range(N): ff2 = tp.functions.FermiFunctionSmallZ_(m,z)\n",
    "stop = time.time()\n",
    "time_approx = stop - start\n",
    "\n",
    "print(\"Exact  timing: {:.3f} s / 1000\".format(time_exact/N*1e3))\n",
    "print(\"Approx timing: {:.3f} s / 1000\".format(time_approx/N*1e3))\n",
    "print(\"Improvement of {:.3f} x\".format(time_exact/time_approx))\n",
    "print(\"Exact: {:.6f} vs Appx: {:.6f}\".format(ff1, ff2))"
   ]
  },
  {
   "cell_type": "code",
   "execution_count": null,
   "metadata": {
    "collapsed": true
   },
   "outputs": [],
   "source": []
  }
 ],
 "metadata": {
  "kernelspec": {
   "display_name": "Python 3",
   "language": "python",
   "name": "python3"
  },
  "language_info": {
   "codemirror_mode": {
    "name": "ipython",
    "version": 3
   },
   "file_extension": ".py",
   "mimetype": "text/x-python",
   "name": "python",
   "nbconvert_exporter": "python",
   "pygments_lexer": "ipython3",
   "version": "3.5.1"
  }
 },
 "nbformat": 4,
 "nbformat_minor": 0
}
